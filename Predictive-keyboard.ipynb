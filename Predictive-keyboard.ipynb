{
 "cells": [
  {
   "cell_type": "markdown",
   "id": "56d25c8a-5842-449e-8593-3d5338d42601",
   "metadata": {},
   "source": [
    "## Preparing the Dataset\n",
    "tokenizing the text data and converting everything to lowercase:"
   ]
  },
  {
   "cell_type": "code",
   "execution_count": 6,
   "id": "a4a9c264-8e64-4348-9943-f6631f6e9c3b",
   "metadata": {},
   "outputs": [
    {
     "name": "stderr",
     "output_type": "stream",
     "text": [
      "[nltk_data] Downloading package punkt to\n",
      "[nltk_data]     /Users/samyakjain/nltk_data...\n",
      "[nltk_data]   Package punkt is already up-to-date!\n",
      "[nltk_data] Downloading package punkt_tab to\n",
      "[nltk_data]     /Users/samyakjain/nltk_data...\n",
      "[nltk_data]   Package punkt_tab is already up-to-date!\n"
     ]
    },
    {
     "name": "stdout",
     "output_type": "stream",
     "text": [
      "Total tokens: 125731\n"
     ]
    }
   ],
   "source": [
    "import nltk\n",
    "from nltk.tokenize import word_tokenize\n",
    "nltk.download('punkt')\n",
    "nltk.download('punkt_tab')\n",
    "\n",
    "with open(\"sherlock-holm.es_stories_plain-text_advs.txt\",\"r\",encoding=\"utf-8\") as f:\n",
    "    text = f.read().lower()\n",
    "\n",
    "#print(text)\n",
    "tokens = word_tokenize(text)\n",
    "print(\"Total tokens:\",len(tokens))"
   ]
  },
  {
   "cell_type": "markdown",
   "id": "023591ff-029e-43be-8ae9-9767714cf3cd",
   "metadata": {},
   "source": [
    "## Creating a Vocabulary\n",
    "converting words into numbers and creating word-to-index mappings"
   ]
  },
  {
   "cell_type": "code",
   "execution_count": 13,
   "id": "92d79170-1026-45e1-bf5e-1ea343a394d5",
   "metadata": {},
   "outputs": [],
   "source": [
    "from collections import Counter\n",
    "\n",
    "word_tokens = Counter(tokens)\n",
    "vocab = sorted(word_tokens, key = word_tokens.get,reverse=True)\n",
    "\n",
    "word2idx = {word: idx for idx ,word in enumerate(vocab)}\n",
    "idx2word = {idx: word for word,idx in word2idx.items()}\n",
    "vocab_size = len(vocab)"
   ]
  },
  {
   "cell_type": "code",
   "execution_count": null,
   "id": "789e899a-7c2e-4e2f-9c0c-a73c6ee474bf",
   "metadata": {},
   "outputs": [],
   "source": []
  }
 ],
 "metadata": {
  "kernelspec": {
   "display_name": "Python 3 (ipykernel)",
   "language": "python",
   "name": "python3"
  },
  "language_info": {
   "codemirror_mode": {
    "name": "ipython",
    "version": 3
   },
   "file_extension": ".py",
   "mimetype": "text/x-python",
   "name": "python",
   "nbconvert_exporter": "python",
   "pygments_lexer": "ipython3",
   "version": "3.11.7"
  }
 },
 "nbformat": 4,
 "nbformat_minor": 5
}

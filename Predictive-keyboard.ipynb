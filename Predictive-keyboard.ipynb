{
 "cells": [
  {
   "cell_type": "markdown",
   "id": "56d25c8a-5842-449e-8593-3d5338d42601",
   "metadata": {},
   "source": [
    "## Preparing the Dataset\n",
    "tokenizing the text data and converting everything to lowercase:"
   ]
  },
  {
   "cell_type": "code",
   "execution_count": 20,
   "id": "a4a9c264-8e64-4348-9943-f6631f6e9c3b",
   "metadata": {},
   "outputs": [
    {
     "name": "stderr",
     "output_type": "stream",
     "text": [
      "[nltk_data] Downloading package punkt to\n",
      "[nltk_data]     /Users/samyakjain/nltk_data...\n",
      "[nltk_data]   Package punkt is already up-to-date!\n",
      "[nltk_data] Downloading package punkt_tab to\n",
      "[nltk_data]     /Users/samyakjain/nltk_data...\n",
      "[nltk_data]   Package punkt_tab is already up-to-date!\n"
     ]
    },
    {
     "name": "stdout",
     "output_type": "stream",
     "text": [
      "Total tokens: 125731\n"
     ]
    }
   ],
   "source": [
    "import nltk\n",
    "from nltk.tokenize import word_tokenize\n",
    "nltk.download('punkt')\n",
    "nltk.download('punkt_tab')\n",
    "import torch\n",
    "\n",
    "with open(\"sherlock-holm.es_stories_plain-text_advs.txt\",\"r\",encoding=\"utf-8\") as f:\n",
    "    text = f.read().lower()\n",
    "\n",
    "#print(text)\n",
    "tokens = word_tokenize(text)\n",
    "print(\"Total tokens:\",len(tokens))"
   ]
  },
  {
   "cell_type": "markdown",
   "id": "023591ff-029e-43be-8ae9-9767714cf3cd",
   "metadata": {},
   "source": [
    "## Creating a Vocabulary\n",
    "converting words into numbers and creating word-to-index mappings"
   ]
  },
  {
   "cell_type": "code",
   "execution_count": 13,
   "id": "92d79170-1026-45e1-bf5e-1ea343a394d5",
   "metadata": {},
   "outputs": [],
   "source": [
    "from collections import Counter\n",
    "\n",
    "word_tokens = Counter(tokens)\n",
    "vocab = sorted(word_tokens, key = word_tokens.get,reverse=True)\n",
    "\n",
    "word2idx = {word: idx for idx ,word in enumerate(vocab)}\n",
    "idx2word = {idx: word for word,idx in word2idx.items()}\n",
    "vocab_size = len(vocab)"
   ]
  },
  {
   "cell_type": "markdown",
   "id": "a50e36cf-f2b0-4143-93fb-ce1dcf359b4f",
   "metadata": {},
   "source": [
    "## Building Input-Output Sequences"
   ]
  },
  {
   "cell_type": "code",
   "execution_count": 22,
   "id": "634adaaa-06a8-4eba-bdc7-cf3ab7fbeb5c",
   "metadata": {},
   "outputs": [],
   "source": [
    "sequence_length = 4\n",
    "data = []\n",
    "\n",
    "for i in range(len(tokens) - sequence_length):\n",
    "    input_seq = tokens[i:i + sequence_length -1]\n",
    "    target = tokens[i + sequence_length - 1]\n",
    "    data.append((input_seq,target))\n",
    "\n",
    "def encode(seq): return [word2idx[word] for word in seq]\n",
    "\n",
    "encoded_data = [(torch.tensor(encode(inp)), torch.tensor(word2idx[target]))\n",
    "                for inp, target in data]"
   ]
  },
  {
   "cell_type": "markdown",
   "id": "b9628958-899e-4621-9a60-7087a8186c1d",
   "metadata": {},
   "source": [
    "## Lstm - based Predictive model"
   ]
  },
  {
   "cell_type": "code",
   "execution_count": 28,
   "id": "b529e971-d611-4427-89fc-f9f65f8e932f",
   "metadata": {},
   "outputs": [],
   "source": [
    "import torch.nn as nn\n",
    "\n",
    "class PredictiveKeyboard(nn.Module):\n",
    "    def __init__(self, vocab_size, embed_dim=64, hidden_dim=128):\n",
    "        super(PredictiveKeyboard, self).__init__()\n",
    "        self.embedding = nn.Embedding(vocab_size, embed_dim)\n",
    "        self.lstm = nn.LSTM(embed_dim, hidden_dim, batch_first=True)\n",
    "        self.fc = nn.Linear(hidden_dim, vocab_size)\n",
    "\n",
    "    def forward(self, x):\n",
    "        x = self.embedding(x)\n",
    "        output, _ = self.lstm(x)\n",
    "        output = self.fc(output[:, -1, :]) \n",
    "        return output"
   ]
  },
  {
   "cell_type": "markdown",
   "id": "3182081d-7a0f-4064-8ca7-10ef94bbb479",
   "metadata": {},
   "source": [
    "## Training the model"
   ]
  },
  {
   "cell_type": "code",
   "execution_count": 30,
   "id": "c2b20ca1-cd7d-43f0-8342-21781864dee5",
   "metadata": {},
   "outputs": [
    {
     "name": "stdout",
     "output_type": "stream",
     "text": [
      "Epoch 1, Loss: 66642.7793\n",
      "Epoch 2, Loss: 67274.0552\n",
      "Epoch 3, Loss: 70471.1248\n",
      "Epoch 4, Loss: 69492.3132\n",
      "Epoch 5, Loss: 71459.2069\n",
      "Epoch 6, Loss: 71859.0885\n",
      "Epoch 7, Loss: 73984.6701\n",
      "Epoch 8, Loss: 74208.9809\n",
      "Epoch 9, Loss: 75186.8002\n",
      "Epoch 10, Loss: 76560.5147\n",
      "Epoch 11, Loss: 76268.7618\n",
      "Epoch 12, Loss: 77134.1414\n",
      "Epoch 13, Loss: 77554.3710\n",
      "Epoch 14, Loss: 76841.4712\n",
      "Epoch 15, Loss: 77987.6094\n",
      "Epoch 16, Loss: 78736.2223\n",
      "Epoch 17, Loss: 79407.7132\n",
      "Epoch 18, Loss: 81233.4178\n",
      "Epoch 19, Loss: 82753.6963\n",
      "Epoch 20, Loss: 80690.2219\n"
     ]
    }
   ],
   "source": [
    "import torch\n",
    "import torch.optim as optim\n",
    "import random\n",
    "\n",
    "model = PredictiveKeyboard(vocab_size)\n",
    "criterion = nn.CrossEntropyLoss()\n",
    "optimizer = optim.Adam(model.parameters(), lr=0.005)\n",
    "\n",
    "epochs = 20\n",
    "for epoch in range(epochs):\n",
    "    total_loss = 0\n",
    "    random.shuffle(encoded_data)\n",
    "    for input_seq, target in encoded_data[:10000]:\n",
    "        input_seq = input_seq.unsqueeze(0)\n",
    "        output = model(input_seq)\n",
    "        loss = criterion(output, target.unsqueeze(0))\n",
    "\n",
    "        optimizer.zero_grad()\n",
    "        loss.backward()\n",
    "        optimizer.step()\n",
    "        total_loss += loss.item()\n",
    "\n",
    "    print(f\"Epoch {epoch+1}, Loss: {total_loss:.4f}\")"
   ]
  },
  {
   "cell_type": "markdown",
   "id": "2f8ab3b5-96b8-4f39-9c74-2ba7e19e6237",
   "metadata": {},
   "source": [
    "## Predicting the Next Words"
   ]
  },
  {
   "cell_type": "code",
   "execution_count": null,
   "id": "e43d73b9-6ae4-4c6c-a199-cf66153e7927",
   "metadata": {},
   "outputs": [],
   "source": [
    "import torch.nn.functional as F\n",
    "\n",
    "def suggest_next_words(model, text_prompt, top_k=3):\n",
    "    model.eval()\n",
    "    tokens = word_tokenize(text_prompt.lower())\n",
    "    if len(tokens) < sequence_length - 1:\n",
    "        raise ValueError(f\"Input should be at least {sequence_length - 1} words long.\")\n",
    "\n",
    "    input_seq = tokens[-(sequence_length - 1):]\n",
    "    input_tensor = torch.tensor(encode(input_seq)).unsqueeze(0)\n",
    "\n",
    "    with torch.no_grad():\n",
    "        output = model(input_tensor)\n",
    "        probs = F.softmax(output, dim=1).squeeze()\n",
    "        top_indices = torch.topk(probs, top_k).indices.tolist()\n",
    "\n",
    "    return [idx2word[idx] for idx in top_indices]\n",
    "\n",
    "print(\"Suggestions:\", suggest_next_words(model, \"So, are we really at\"))"
   ]
  }
 ],
 "metadata": {
  "kernelspec": {
   "display_name": "Python 3 (ipykernel)",
   "language": "python",
   "name": "python3"
  },
  "language_info": {
   "codemirror_mode": {
    "name": "ipython",
    "version": 3
   },
   "file_extension": ".py",
   "mimetype": "text/x-python",
   "name": "python",
   "nbconvert_exporter": "python",
   "pygments_lexer": "ipython3",
   "version": "3.11.7"
  }
 },
 "nbformat": 4,
 "nbformat_minor": 5
}
